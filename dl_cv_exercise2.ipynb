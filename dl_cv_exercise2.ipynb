{
 "cells": [
  {
   "cell_type": "code",
   "execution_count": 1,
   "id": "c21a98af",
   "metadata": {},
   "outputs": [],
   "source": [
    "import tensorflow as tf\n",
    "from tensorflow import keras\n",
    "from sklearn.model_selection import train_test_split\n",
    "import matplotlib.pyplot as plt\n",
    "import numpy as np"
   ]
  },
  {
   "cell_type": "markdown",
   "id": "c61e2beb",
   "metadata": {},
   "source": [
    "## fashion_mnist dataset 을 활용한 deep learning 학습 연습"
   ]
  },
  {
   "cell_type": "code",
   "execution_count": 2,
   "id": "32df0b95",
   "metadata": {},
   "outputs": [
    {
     "name": "stdout",
     "output_type": "stream",
     "text": [
      "(48000, 28, 28, 1) (48000,)\n",
      "(12000, 28, 28, 1) (12000,)\n"
     ]
    }
   ],
   "source": [
    "(train_input , train_target), (test_input, test_target) = keras.datasets.fashion_mnist.load_data()\n",
    "\n",
    "target_name = {0:'t-shirt', 1:'pants', 2:'sweater', 3:'dress', 4:'coat', 5:'sandal', 6:'shirt', 7:'sneakers', 8:'bag', 9:'ankle_boots'}\n",
    "\n",
    "#합성곱층은 3차원의 입력을 기대하기 때문에, 3차원 입력이 여러개인 4차원 으로 값을 변환. 흑백일 경우 깊이가 1, 칼라일경우 깊이 3(RGB)\n",
    "train_scaled = train_input.reshape(-1, 28, 28, 1) / 255.0\n",
    "test_scaled = test_input.reshape(-1, 28, 28, 1) / 255.0 \n",
    "\n",
    "train_scaled, val_scaled, train_target, val_target = train_test_split(train_scaled, train_target, test_size=0.2)\n",
    "\n",
    "print(train_scaled.shape,train_target.shape)\n",
    "print(val_scaled.shape,val_target.shape)"
   ]
  },
  {
   "cell_type": "code",
   "execution_count": 3,
   "id": "03a51091",
   "metadata": {},
   "outputs": [],
   "source": [
    "def model_fn():\n",
    "    model = keras.Sequential()\n",
    "    \n",
    "    #합성곱 신경망 : 입력 데이터에 유용한 특성만 드러나도록 함\n",
    "    model.add(keras.layers.Conv2D(32, kernel_size=3, activation='relu', padding='same', input_shape=(28,28,1))) #합성곱1\n",
    "    model.add(keras.layers.MaxPooling2D(2)) #풀링1  \n",
    "    \n",
    "    model.add(keras.layers.Conv2D(64, kernel_size=3, activation='relu', padding='same', input_shape=(28,28,1))) #합성곱2\n",
    "    model.add(keras.layers.MaxPooling2D(2)) #풀링2  \n",
    "\n",
    "    #밀집층\n",
    "    model.add(keras.layers.Flatten()) #밀집층에 연결하기 위한 flatten\n",
    "    \n",
    "    #밀집층 : 은닉층\n",
    "    model.add(keras.layers.Dense(100,activation='relu'))\n",
    "    model.add(keras.layers.Dropout(0.4)) # 과대적합을 막기위한 dropout\n",
    "    \n",
    "    #밀집층 : 출력층\n",
    "    model.add(keras.layers.Dense(10,activation='softmax'))\n",
    "    \n",
    "    return model\n",
    "\n",
    "# 활성함수 => 신경망 회로에서, 한 노드에 대해 입력값을 다음 노드에 보낼지 말지에 대해 결정하는 함수. "
   ]
  },
  {
   "cell_type": "code",
   "execution_count": 4,
   "id": "9c5edc41",
   "metadata": {},
   "outputs": [
    {
     "name": "stdout",
     "output_type": "stream",
     "text": [
      "Metal device set to: Apple M1 Pro\n",
      "Model: \"sequential\"\n",
      "_________________________________________________________________\n",
      " Layer (type)                Output Shape              Param #   \n",
      "=================================================================\n",
      " conv2d (Conv2D)             (None, 28, 28, 32)        320       \n",
      "                                                                 \n",
      " max_pooling2d (MaxPooling2D  (None, 14, 14, 32)       0         \n",
      " )                                                               \n",
      "                                                                 \n",
      " conv2d_1 (Conv2D)           (None, 14, 14, 64)        18496     \n",
      "                                                                 \n",
      " max_pooling2d_1 (MaxPooling  (None, 7, 7, 64)         0         \n",
      " 2D)                                                             \n",
      "                                                                 \n",
      " flatten (Flatten)           (None, 3136)              0         \n",
      "                                                                 \n",
      " dense (Dense)               (None, 100)               313700    \n",
      "                                                                 \n",
      " dropout (Dropout)           (None, 100)               0         \n",
      "                                                                 \n",
      " dense_1 (Dense)             (None, 10)                1010      \n",
      "                                                                 \n",
      "=================================================================\n",
      "Total params: 333,526\n",
      "Trainable params: 333,526\n",
      "Non-trainable params: 0\n",
      "_________________________________________________________________\n"
     ]
    },
    {
     "name": "stderr",
     "output_type": "stream",
     "text": [
      "2023-02-26 16:32:58.511895: I tensorflow/core/common_runtime/pluggable_device/pluggable_device_factory.cc:305] Could not identify NUMA node of platform GPU ID 0, defaulting to 0. Your kernel may not have been built with NUMA support.\n",
      "2023-02-26 16:32:58.511998: I tensorflow/core/common_runtime/pluggable_device/pluggable_device_factory.cc:271] Created TensorFlow device (/job:localhost/replica:0/task:0/device:GPU:0 with 0 MB memory) -> physical PluggableDevice (device: 0, name: METAL, pci bus id: <undefined>)\n"
     ]
    }
   ],
   "source": [
    "model = model_fn()\n",
    "model.summary()"
   ]
  },
  {
   "cell_type": "code",
   "execution_count": 5,
   "id": "5e06a3f7",
   "metadata": {},
   "outputs": [
    {
     "name": "stdout",
     "output_type": "stream",
     "text": [
      "Epoch 1/20\n"
     ]
    },
    {
     "name": "stderr",
     "output_type": "stream",
     "text": [
      "2023-02-26 16:32:58.719300: W tensorflow/core/platform/profile_utils/cpu_utils.cc:128] Failed to get CPU frequency: 0 Hz\n",
      "2023-02-26 16:32:58.886855: I tensorflow/core/grappler/optimizers/custom_graph_optimizer_registry.cc:113] Plugin optimizer for device_type GPU is enabled.\n"
     ]
    },
    {
     "name": "stdout",
     "output_type": "stream",
     "text": [
      "1499/1500 [============================>.] - ETA: 0s - loss: 0.5080 - accuracy: 0.8220"
     ]
    },
    {
     "name": "stderr",
     "output_type": "stream",
     "text": [
      "2023-02-26 16:33:08.133381: I tensorflow/core/grappler/optimizers/custom_graph_optimizer_registry.cc:113] Plugin optimizer for device_type GPU is enabled.\n"
     ]
    },
    {
     "name": "stdout",
     "output_type": "stream",
     "text": [
      "1500/1500 [==============================] - 11s 7ms/step - loss: 0.5079 - accuracy: 0.8221 - val_loss: 0.3159 - val_accuracy: 0.8824\n",
      "Epoch 2/20\n",
      "1500/1500 [==============================] - 10s 7ms/step - loss: 0.3282 - accuracy: 0.8836 - val_loss: 0.2713 - val_accuracy: 0.8978\n",
      "Epoch 3/20\n",
      "1500/1500 [==============================] - 10s 7ms/step - loss: 0.2803 - accuracy: 0.8982 - val_loss: 0.2448 - val_accuracy: 0.9100\n",
      "Epoch 4/20\n",
      "1500/1500 [==============================] - 10s 7ms/step - loss: 0.2499 - accuracy: 0.9069 - val_loss: 0.2314 - val_accuracy: 0.9155\n",
      "Epoch 5/20\n",
      "1500/1500 [==============================] - 15s 10ms/step - loss: 0.2265 - accuracy: 0.9173 - val_loss: 0.2184 - val_accuracy: 0.9204\n",
      "Epoch 6/20\n",
      "1500/1500 [==============================] - 10s 7ms/step - loss: 0.2049 - accuracy: 0.9251 - val_loss: 0.2167 - val_accuracy: 0.9228\n",
      "Epoch 7/20\n",
      "1500/1500 [==============================] - 10s 7ms/step - loss: 0.1902 - accuracy: 0.9300 - val_loss: 0.2276 - val_accuracy: 0.9185\n",
      "Epoch 8/20\n",
      "1500/1500 [==============================] - 10s 7ms/step - loss: 0.1724 - accuracy: 0.9366 - val_loss: 0.2178 - val_accuracy: 0.9222\n",
      "Epoch 9/20\n",
      "1500/1500 [==============================] - 10s 7ms/step - loss: 0.1581 - accuracy: 0.9409 - val_loss: 0.2195 - val_accuracy: 0.9235\n"
     ]
    }
   ],
   "source": [
    "model.compile(optimizer='adam', loss='sparse_categorical_crossentropy', metrics='accuracy')\n",
    "\n",
    "check_point = keras.callbacks.ModelCheckpoint('best_cv_model.h5', save_best_only=True)\n",
    "early_stopping = keras.callbacks.EarlyStopping(patience=3, restore_best_weights=True)\n",
    "\n",
    "history = model.fit(train_scaled, train_target, epochs=20, \n",
    "                    validation_data=(val_scaled, val_target), \n",
    "                    callbacks=[check_point, early_stopping])\n"
   ]
  },
  {
   "cell_type": "code",
   "execution_count": 6,
   "id": "10970753",
   "metadata": {},
   "outputs": [
    {
     "data": {
      "image/png": "[encoded data removed]",
      "text/plain": [
       "<Figure size 640x480 with 1 Axes>"
      ]
     },
     "metadata": {},
     "output_type": "display_data"
    },
    {
     "name": "stdout",
     "output_type": "stream",
     "text": [
      "best_epoch : 6\n"
     ]
    }
   ],
   "source": [
    "plt.plot(np.linspace(1,len(history.history['loss']),len(history.history['loss'])), history.history['loss'])\n",
    "plt.plot(np.linspace(1,len(history.history['val_loss']),len(history.history['val_loss'])), history.history['val_loss'])\n",
    "plt.xlabel('epoch')\n",
    "plt.ylabel('loss')\n",
    "plt.legend(['train','val'])\n",
    "plt.show()\n",
    "\n",
    "print('best_epoch :', early_stopping.best_epoch + 1)"
   ]
  },
  {
   "cell_type": "code",
   "execution_count": 7,
   "id": "35dec58f",
   "metadata": {},
   "outputs": [
    {
     "name": "stdout",
     "output_type": "stream",
     "text": [
      "375/375 [==============================] - 2s 5ms/step - loss: 0.2167 - accuracy: 0.9228\n"
     ]
    },
    {
     "data": {
      "text/plain": [
       "[0.21668902039527893, 0.9228333234786987]"
      ]
     },
     "execution_count": 7,
     "metadata": {},
     "output_type": "execute_result"
    }
   ],
   "source": [
    "model.evaluate(val_scaled,val_target) #최상의 모델 parameter로 자동 복구하여, 검증모델의 손실값과 정확도가 같음을 볼 수 있다."
   ]
  }
 ],
 "metadata": {
  "kernelspec": {
   "display_name": "Python 3 (ipykernel)",
   "language": "python",
   "name": "python3"
  },
  "language_info": {
   "codemirror_mode": {
    "name": "ipython",
    "version": 3
   },
   "file_extension": ".py",
   "mimetype": "text/x-python",
   "name": "python",
   "nbconvert_exporter": "python",
   "pygments_lexer": "ipython3",
   "version": "3.10.9"
  }
 },
 "nbformat": 4,
 "nbformat_minor": 5
}

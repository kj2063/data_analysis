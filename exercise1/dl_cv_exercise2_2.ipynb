{
 "cells": [
  {
   "cell_type": "code",
   "execution_count": 1,
   "id": "c21a98af",
   "metadata": {},
   "outputs": [],
   "source": [
    "import tensorflow as tf\n",
    "from tensorflow import keras\n",
    "from sklearn.model_selection import train_test_split\n",
    "import matplotlib.pyplot as plt\n",
    "import numpy as np"
   ]
  },
  {
   "cell_type": "markdown",
   "id": "c61e2beb",
   "metadata": {},
   "source": [
    "## fashion_mnist dataset 을 활용한 deep learning 학습 연습"
   ]
  },
  {
   "cell_type": "code",
   "execution_count": 2,
   "id": "32df0b95",
   "metadata": {},
   "outputs": [
    {
     "name": "stdout",
     "output_type": "stream",
     "text": [
      "(48000, 28, 28, 1) (48000, 10)\n",
      "(12000, 28, 28, 1) (12000, 10)\n"
     ]
    }
   ],
   "source": [
    "(train_input , train_target), (test_input, test_target) = keras.datasets.fashion_mnist.load_data()\n",
    "\n",
    "target_name = {0:'t-shirt', 1:'pants', 2:'sweater', 3:'dress', 4:'coat', 5:'sandal', 6:'shirt', 7:'sneakers', 8:'bag', 9:'ankle_boots'}\n",
    "\n",
    "train_scaled = train_input.reshape(-1, 28, 28, 1) / 255.0\n",
    "train_target = tf.keras.utils.to_categorical(train_target) #one hot encoding\n",
    "test_scaled = test_input.reshape(-1, 28, 28, 1) / 255.0\n",
    "test_target = tf.keras.utils.to_categorical(test_target)\n",
    "\n",
    "\n",
    "train_scaled, val_scaled, train_target, val_target = train_test_split(train_scaled, train_target, stratify=train_target, test_size=0.2)\n",
    "\n",
    "\n",
    "print(train_scaled.shape,train_target.shape)\n",
    "print(val_scaled.shape,val_target.shape)"
   ]
  },
  {
   "cell_type": "code",
   "execution_count": 3,
   "id": "03a51091",
   "metadata": {},
   "outputs": [],
   "source": [
    "class ModelClass:\n",
    "    \n",
    "    def __init__(self, batch_size=32, learning_rate=1e-3):\n",
    "        self.optimizer = tf.optimizers.Adam(learning_rate = learning_rate)   # 옵티마이저\n",
    "        self.n_kernels1 = 32  # 합성곱의 커널 개수\n",
    "        self.n_kernels2 = 64  # 합성곱의 커널 개수\n",
    "        self.conv_w1 = None          # 합성곱 층의 가중치\n",
    "        self.conv_b1 = None          # 합성곱 층의 절편\n",
    "        self.conv_w2 = None          # 합성곱 층의 가중치\n",
    "        self.conv_b2 = None          # 합성곱 층의 절편\n",
    "        self.batch_size = batch_size  # 배치 크기\n",
    "        self.units = 100\n",
    "        self.w1 = None              # 은닉층의 가중치\n",
    "        self.b1 = None              # 은닉층의 절편\n",
    "        self.w2 = None              # 출력층의 가중치\n",
    "        self.b2 = None              # 출력층의 절편\n",
    "        # self.a1 = None              # 은닉층의 활성화 출력\n",
    "        self.losses = []            # 훈련 손실\n",
    "        self.val_losses = []        # 검증 손실\n",
    "        \n",
    "    def fit(self, x, y, epochs=100, x_val=None, y_val=None):\n",
    "        self.init_weights(y.shape[1])    # 은닉층과 출력층의 가중치를 초기화\n",
    "\n",
    "        for i in range(epochs):\n",
    "            batch_losses = []\n",
    "            for x_batch, y_batch in self.gen_batch(x, y): #Adam optimizer 인데 미니배치로 해도 괜찮은가?\n",
    "\n",
    "                self.training(x_batch, y_batch)\n",
    "                # 배치 손실을 기록\n",
    "                batch_losses.append(self.get_loss(x_batch, y_batch))\n",
    "\n",
    "            # 배치 손실 평균내어 훈련 손실 값으로 저장\n",
    "            loss = np.mean(batch_losses)\n",
    "            self.losses.append(loss)\n",
    "            # 검증 세트에 대한 손실을 계산\n",
    "            val_loss = self.get_loss(x_val, y_val)\n",
    "            self.val_losses.append(val_loss)\n",
    "            print('에포크[{}/{}] - test_loss : {} , val_loss : {}'.format(i+1, epochs, loss, val_loss))\n",
    "          \n",
    "    def training(self, x, y):\n",
    "        with tf.GradientTape() as tape:\n",
    "            z = self.forpass(x)       # 정방향 계산을 수행\n",
    "            # 손실을 계산\n",
    "            loss = tf.nn.softmax_cross_entropy_with_logits(y, z)\n",
    "            loss = tf.reduce_mean(loss)\n",
    "\n",
    "        weights_list = [self.conv_w1, self.conv_b1,\n",
    "                        self.conv_w2, self.conv_b2,\n",
    "                        self.w1, self.b1, \n",
    "                        self.w2, self.b2]\n",
    "        # 가중치에 대한 그래디언트를 계산\n",
    "        grads = tape.gradient(loss, weights_list)\n",
    "        # 가중치를 업데이트\n",
    "        self.optimizer.apply_gradients(zip(grads, weights_list))\n",
    "    \n",
    "    def init_weights(self, n_classes):\n",
    "        g = tf.initializers.glorot_uniform()\n",
    "        self.conv_w1 = tf.Variable(g((3, 3, 1, self.n_kernels1)))\n",
    "        self.conv_b1 = tf.Variable(np.zeros(self.n_kernels1), dtype=float)\n",
    "        self.conv_w2 = tf.Variable(g((3, 3, 1, self.n_kernels2)))\n",
    "        self.conv_b2 = tf.Variable(np.zeros(self.n_kernels2), dtype=float)\n",
    "        n_features = 7 * 7 * self.n_kernels2\n",
    "        self.w1 = tf.Variable(g((n_features, self.units)))          # (특성 개수, 은닉층의 크기)\n",
    "        self.b1 = tf.Variable(np.zeros(self.units), dtype=float)    # 은닉층의 크기\n",
    "        self.w2 = tf.Variable(g((self.units, n_classes)))           # (은닉층의 크기, 클래스 개수)\n",
    "        self.b2 = tf.Variable(np.zeros(n_classes), dtype=float)     # 클래스 개수\n",
    "    \n",
    "    def forpass(self, x):\n",
    "        out = tf.nn.conv2d(x, self.conv_w1, strides=1, padding='SAME') + self.conv_b1\n",
    "        out = tf.nn.relu(out)\n",
    "        out = tf.nn.max_pool2d(out, ksize=2, strides=2, padding='VALID')\n",
    "\n",
    "        out = tf.nn.conv2d(out, self.conv_w2, strides=1, padding='SAME') + self.conv_b2\n",
    "        out = tf.nn.relu(out)\n",
    "        out = tf.nn.max_pool2d(out, ksize=2, strides=2, padding='VALID')\n",
    "\n",
    "        out = tf.reshape(out, [x.shape[0], -1])\n",
    "        out = tf.matmul(out, self.w1) + self.b1     # 첫 번째 층의 선형 식을 계산 : z1\n",
    "        out = tf.nn.relu(out)                          # 활성화 함수를 적용 : a1\n",
    "        out = tf.matmul(out, self.w2) + self.b2        # 두 번째 층의 선형 식을 계산 : z2\n",
    "        return out\n",
    "\n",
    "    def get_loss(self, x, y):\n",
    "        z = self.forpass(x)                 # 정방향 계산을 수행\n",
    "        # 손실을 계산하여 저장\n",
    "        loss = tf.reduce_mean(tf.nn.softmax_cross_entropy_with_logits(y, z))\n",
    "        return loss.numpy()\n",
    "\n",
    "    # 미니배치 제너레이터 함수\n",
    "    def gen_batch(self, x, y):\n",
    "        bins = len(x) // self.batch_size                   # 미니배치 횟수\n",
    "        indexes = np.random.permutation(np.arange(len(x))) # 인덱스를 섞기\n",
    "        x = x[indexes]\n",
    "        y = y[indexes]\n",
    "        for i in range(bins):\n",
    "            start = self.batch_size * i\n",
    "            end = self.batch_size * (i + 1)\n",
    "            yield x[start:end], y[start:end]   # batch_size만큼 슬라이싱하여 반환\n",
    "    \n",
    "    def predict(self, x):\n",
    "        z = self.forpass(x)                 # 정방향 계산을 수행\n",
    "        return np.argmax(z.numpy(), axis=1) # 가장 큰 값의 인덱스를 반환\n",
    "    \n",
    "    def score(self, x, y):\n",
    "        # 예측과 타깃 열 벡터를 비교하여 True의 비율을 반환\n",
    "        return np.mean(self.predict(x) == np.argmax(y, axis=1))\n",
    "\n",
    "\n",
    "    \n",
    "# def model_fn():\n",
    "#     model = keras.Sequential()\n",
    "    \n",
    "#     #합성곱 신경망 : 입력 데이터에 유용한 특성만 드러나도록 함\n",
    "#     model.add(keras.layers.Conv2D(32, kernel_size=3, activation='relu', padding='same', input_shape=(28,28,1))) #합성곱1\n",
    "#     model.add(keras.layers.MaxPooling2D(2)) #풀링1  \n",
    "    \n",
    "#     model.add(keras.layers.Conv2D(64, kernel_size=3, activation='relu', padding='same', input_shape=(28,28,1))) #합성곱2\n",
    "#     model.add(keras.layers.MaxPooling2D(2)) #풀링2  \n",
    "\n",
    "#     #밀집층\n",
    "#     model.add(keras.layers.Flatten()) #밀집층에 연결하기 위한 flatten\n",
    "    \n",
    "#     #밀집층 : 은닉층\n",
    "#     model.add(keras.layers.Dense(100,activation='relu'))\n",
    "#     model.add(keras.layers.Dropout(0.4)) # 과대적합을 막기위한 dropout\n",
    "    \n",
    "#     #밀집층 : 출력층\n",
    "#     model.add(keras.layers.Dense(10,activation='softmax'))\n",
    "    \n",
    "#     return model\n",
    "\n",
    "# # 활성함수 => 신경망 회로에서, 한 노드에 대해 입력값을 다음 노드에 보낼지 말지에 대해 결정하는 함수. "
   ]
  },
  {
   "cell_type": "code",
   "execution_count": 4,
   "id": "9c5edc41",
   "metadata": {},
   "outputs": [],
   "source": [
    "model = ModelClass()\n",
    "\n",
    "\n",
    "# model = model_fn()\n",
    "# model.summary()"
   ]
  },
  {
   "cell_type": "code",
   "execution_count": 5,
   "id": "5e06a3f7",
   "metadata": {},
   "outputs": [
    {
     "name": "stdout",
     "output_type": "stream",
     "text": [
      "Metal device set to: Apple M1 Pro\n"
     ]
    },
    {
     "name": "stderr",
     "output_type": "stream",
     "text": [
      "2023-03-06 21:48:04.009930: I tensorflow/core/common_runtime/pluggable_device/pluggable_device_factory.cc:305] Could not identify NUMA node of platform GPU ID 0, defaulting to 0. Your kernel may not have been built with NUMA support.\n",
      "2023-03-06 21:48:04.010029: I tensorflow/core/common_runtime/pluggable_device/pluggable_device_factory.cc:271] Created TensorFlow device (/job:localhost/replica:0/task:0/device:GPU:0 with 0 MB memory) -> physical PluggableDevice (device: 0, name: METAL, pci bus id: <undefined>)\n"
     ]
    },
    {
     "name": "stdout",
     "output_type": "stream",
     "text": [
      "에포크[1/10] - test_loss : 0.4585227072238922 , val_loss : 0.34439557790756226\n",
      "에포크[2/10] - test_loss : 0.29398688673973083 , val_loss : 0.2986551821231842\n",
      "에포크[3/10] - test_loss : 0.2536662220954895 , val_loss : 0.2769806385040283\n",
      "에포크[4/10] - test_loss : 0.22666797041893005 , val_loss : 0.25504809617996216\n",
      "에포크[5/10] - test_loss : 0.20411664247512817 , val_loss : 0.24673254787921906\n",
      "에포크[6/10] - test_loss : 0.18522587418556213 , val_loss : 0.23806831240653992\n",
      "에포크[7/10] - test_loss : 0.16659200191497803 , val_loss : 0.2794772982597351\n",
      "에포크[8/10] - test_loss : 0.15108215808868408 , val_loss : 0.2620401084423065\n",
      "에포크[9/10] - test_loss : 0.1355602741241455 , val_loss : 0.23916566371917725\n",
      "에포크[10/10] - test_loss : 0.12016723304986954 , val_loss : 0.2562342584133148\n"
     ]
    }
   ],
   "source": [
    "model.fit(train_scaled, train_target,  epochs=10,\n",
    "       x_val=val_scaled, y_val=val_target)\n",
    "\n",
    "# model.compile(optimizer='adam', loss='sparse_categorical_crossentropy', metrics='accuracy')\n",
    "\n",
    "# check_point = keras.callbacks.ModelCheckpoint('best_cv_model.h5', save_best_only=True)\n",
    "# early_stopping = keras.callbacks.EarlyStopping(patience=3, restore_best_weights=True)\n",
    "\n",
    "# history = model.fit(train_scaled, train_target, epochs=20,\n",
    "#                     validation_data=(val_scaled, val_target),\n",
    "#                     callbacks=[check_point, early_stopping])\n"
   ]
  },
  {
   "cell_type": "code",
   "execution_count": 6,
   "id": "10970753",
   "metadata": {},
   "outputs": [
    {
     "data": {
      "image/png": "[encoded data removed]",
      "text/plain": [
       "<Figure size 640x480 with 1 Axes>"
      ]
     },
     "metadata": {},
     "output_type": "display_data"
    }
   ],
   "source": [
    "plt.plot(np.linspace(1,len(model.losses),len(model.losses)), model.losses)\n",
    "plt.plot(np.linspace(1,len(model.val_losses),len(model.val_losses)), model.val_losses)\n",
    "plt.xlabel('epoch')\n",
    "plt.ylabel('loss')\n",
    "plt.legend(['train','val'])\n",
    "plt.show()\n",
    "\n",
    "# plt.plot(np.linspace(1,len(history.history['loss']),len(history.history['loss'])), history.history['loss'])\n",
    "# plt.plot(np.linspace(1,len(history.history['val_loss']),len(history.history['val_loss'])), history.history['val_loss'])\n",
    "# plt.xlabel('epoch')\n",
    "# plt.ylabel('loss')\n",
    "# plt.legend(['train','val'])\n",
    "# plt.show()\n",
    "\n",
    "# print('best_epoch :', early_stopping.best_epoch + 1)"
   ]
  },
  {
   "cell_type": "code",
   "execution_count": 8,
   "id": "35dec58f",
   "metadata": {},
   "outputs": [
    {
     "data": {
      "text/plain": [
       "0.9095"
      ]
     },
     "execution_count": 8,
     "metadata": {},
     "output_type": "execute_result"
    }
   ],
   "source": [
    "model.score(test_scaled, test_target)"
   ]
  }
 ],
 "metadata": {
  "kernelspec": {
   "display_name": "Python 3 (ipykernel)",
   "language": "python",
   "name": "python3"
  },
  "language_info": {
   "codemirror_mode": {
    "name": "ipython",
    "version": 3
   },
   "file_extension": ".py",
   "mimetype": "text/x-python",
   "name": "python",
   "nbconvert_exporter": "python",
   "pygments_lexer": "ipython3",
   "version": "3.10.9"
  }
 },
 "nbformat": 4,
 "nbformat_minor": 5
}

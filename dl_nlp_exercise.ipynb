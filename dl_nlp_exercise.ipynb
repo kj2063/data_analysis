{
 "cells": [
  {
   "cell_type": "code",
   "execution_count": 1,
   "id": "74988868",
   "metadata": {},
   "outputs": [],
   "source": [
    "from sklearn.model_selection import train_test_split\n",
    "from tensorflow.keras.datasets import imdb\n",
    "from tensorflow.keras.preprocessing.sequence import pad_sequences\n",
    "from tensorflow import keras\n",
    "import matplotlib.pyplot as plt\n",
    "import numpy as np"
   ]
  },
  {
   "cell_type": "markdown",
   "id": "3c732855",
   "metadata": {},
   "source": [
    "## imdb dataset(영화 리뷰 긍정/부정) 을 활용한 deep learning 학습 연습"
   ]
  },
  {
   "cell_type": "code",
   "execution_count": 2,
   "id": "1d40c069",
   "metadata": {},
   "outputs": [
    {
     "name": "stdout",
     "output_type": "stream",
     "text": [
      "train_input (20000,)\n",
      "train_target (20000,)\n",
      "train_seq (20000, 100)\n",
      "val_seq (5000, 100)\n"
     ]
    }
   ],
   "source": [
    "(train_input, train_target), (test_input, test_target) = imdb.load_data(num_words=500)\n",
    "\n",
    "train_input, val_input, train_target, val_target = train_test_split(train_input, train_target, test_size=0.2)\n",
    "\n",
    "# truncating='pre'가 default로 100자가 넘어가는 문자는 앞에서 부터 잘린다. 뒤에서 부터 자르고 싶으면 truncating='post'로 설정해 주면 된다.\n",
    "train_seq = pad_sequences(train_input, maxlen=100) \n",
    "val_seq = pad_sequences(val_input, maxlen=100)\n",
    "\n",
    "print('train_input',train_input.shape)\n",
    "print('train_target',train_target.shape)\n",
    "\n",
    "print('train_seq',train_seq.shape)\n",
    "print('val_seq',val_seq.shape)"
   ]
  },
  {
   "cell_type": "code",
   "execution_count": 3,
   "id": "ac054fa1",
   "metadata": {},
   "outputs": [],
   "source": [
    "def model_fn():\n",
    "    model = keras.Sequential()\n",
    "    \n",
    "    # Embedding(어휘사전의 크기, 임베딩 벡터의 크기, 입력 시퀀스의 길이) => one-hot-encoding 방식 보다 데이터 양을 크게 줄일 수 있다.\n",
    "    model.add(keras.layers.Embedding(500,16, input_length=100))\n",
    "    \n",
    "    #순환층이 2개 이상일때 마지막 순환층 이외의 순환층은 모든 time step 에 대한 은닉상태를 출력해야한다. return_sequences = True 로 해주자.\n",
    "    model.add(keras.layers.LSTM(8, dropout=0.3, return_sequences=True)) \n",
    "    model.add(keras.layers.LSTM(8, dropout=0.3)) # 마지막 순환층에서는 모든 time step에대한 마지막 은닉상태만 출력한다.\n",
    "    \n",
    "    model.add(keras.layers.Dense(1, activation='sigmoid'))\n",
    "    \n",
    "    return model"
   ]
  },
  {
   "cell_type": "code",
   "execution_count": 4,
   "id": "b4c7209d",
   "metadata": {},
   "outputs": [
    {
     "name": "stdout",
     "output_type": "stream",
     "text": [
      "Metal device set to: Apple M1 Pro\n"
     ]
    },
    {
     "name": "stderr",
     "output_type": "stream",
     "text": [
      "2023-02-26 15:13:27.589022: I tensorflow/core/common_runtime/pluggable_device/pluggable_device_factory.cc:305] Could not identify NUMA node of platform GPU ID 0, defaulting to 0. Your kernel may not have been built with NUMA support.\n",
      "2023-02-26 15:13:27.589152: I tensorflow/core/common_runtime/pluggable_device/pluggable_device_factory.cc:271] Created TensorFlow device (/job:localhost/replica:0/task:0/device:GPU:0 with 0 MB memory) -> physical PluggableDevice (device: 0, name: METAL, pci bus id: <undefined>)\n"
     ]
    },
    {
     "name": "stdout",
     "output_type": "stream",
     "text": [
      "Model: \"sequential\"\n",
      "_________________________________________________________________\n",
      " Layer (type)                Output Shape              Param #   \n",
      "=================================================================\n",
      " embedding (Embedding)       (None, 100, 16)           8000      \n",
      "                                                                 \n",
      " lstm (LSTM)                 (None, 100, 8)            800       \n",
      "                                                                 \n",
      " lstm_1 (LSTM)               (None, 8)                 544       \n",
      "                                                                 \n",
      " dense (Dense)               (None, 1)                 9         \n",
      "                                                                 \n",
      "=================================================================\n",
      "Total params: 9,353\n",
      "Trainable params: 9,353\n",
      "Non-trainable params: 0\n",
      "_________________________________________________________________\n"
     ]
    }
   ],
   "source": [
    "model = model_fn()\n",
    "\n",
    "model.summary()"
   ]
  },
  {
   "cell_type": "code",
   "execution_count": 5,
   "id": "c1480f98",
   "metadata": {},
   "outputs": [
    {
     "name": "stdout",
     "output_type": "stream",
     "text": [
      "Epoch 1/100\n"
     ]
    },
    {
     "name": "stderr",
     "output_type": "stream",
     "text": [
      "2023-02-26 15:13:27.886956: W tensorflow/core/platform/profile_utils/cpu_utils.cc:128] Failed to get CPU frequency: 0 Hz\n",
      "2023-02-26 15:13:29.059986: I tensorflow/core/grappler/optimizers/custom_graph_optimizer_registry.cc:113] Plugin optimizer for device_type GPU is enabled.\n",
      "2023-02-26 15:13:29.294465: I tensorflow/core/grappler/optimizers/custom_graph_optimizer_registry.cc:113] Plugin optimizer for device_type GPU is enabled.\n",
      "2023-02-26 15:13:29.443181: I tensorflow/core/grappler/optimizers/custom_graph_optimizer_registry.cc:113] Plugin optimizer for device_type GPU is enabled.\n",
      "2023-02-26 15:13:29.615439: I tensorflow/core/grappler/optimizers/custom_graph_optimizer_registry.cc:113] Plugin optimizer for device_type GPU is enabled.\n",
      "2023-02-26 15:13:29.905008: I tensorflow/core/grappler/optimizers/custom_graph_optimizer_registry.cc:113] Plugin optimizer for device_type GPU is enabled.\n"
     ]
    },
    {
     "name": "stdout",
     "output_type": "stream",
     "text": [
      "313/313 [==============================] - ETA: 0s - loss: 0.6922 - accuracy: 0.5412"
     ]
    },
    {
     "name": "stderr",
     "output_type": "stream",
     "text": [
      "2023-02-26 15:13:46.828261: I tensorflow/core/grappler/optimizers/custom_graph_optimizer_registry.cc:113] Plugin optimizer for device_type GPU is enabled.\n",
      "2023-02-26 15:13:46.905746: I tensorflow/core/grappler/optimizers/custom_graph_optimizer_registry.cc:113] Plugin optimizer for device_type GPU is enabled.\n",
      "2023-02-26 15:13:47.023572: I tensorflow/core/grappler/optimizers/custom_graph_optimizer_registry.cc:113] Plugin optimizer for device_type GPU is enabled.\n"
     ]
    },
    {
     "name": "stdout",
     "output_type": "stream",
     "text": [
      "313/313 [==============================] - 21s 61ms/step - loss: 0.6922 - accuracy: 0.5412 - val_loss: 0.6907 - val_accuracy: 0.5988\n",
      "Epoch 2/100\n",
      "313/313 [==============================] - 18s 56ms/step - loss: 0.6838 - accuracy: 0.6173 - val_loss: 0.6690 - val_accuracy: 0.6588\n",
      "Epoch 3/100\n",
      "313/313 [==============================] - 18s 56ms/step - loss: 0.6327 - accuracy: 0.6777 - val_loss: 0.5974 - val_accuracy: 0.7094\n",
      "Epoch 4/100\n",
      "313/313 [==============================] - 18s 56ms/step - loss: 0.5787 - accuracy: 0.7164 - val_loss: 0.5559 - val_accuracy: 0.7382\n",
      "Epoch 5/100\n",
      "313/313 [==============================] - 18s 57ms/step - loss: 0.5460 - accuracy: 0.7408 - val_loss: 0.5295 - val_accuracy: 0.7514\n",
      "Epoch 6/100\n",
      "313/313 [==============================] - 18s 57ms/step - loss: 0.5254 - accuracy: 0.7511 - val_loss: 0.5171 - val_accuracy: 0.7612\n",
      "Epoch 7/100\n",
      "313/313 [==============================] - 18s 57ms/step - loss: 0.5067 - accuracy: 0.7649 - val_loss: 0.5024 - val_accuracy: 0.7634\n",
      "Epoch 8/100\n",
      "313/313 [==============================] - 18s 57ms/step - loss: 0.4972 - accuracy: 0.7687 - val_loss: 0.4933 - val_accuracy: 0.7670\n",
      "Epoch 9/100\n",
      "313/313 [==============================] - 18s 56ms/step - loss: 0.4854 - accuracy: 0.7750 - val_loss: 0.4838 - val_accuracy: 0.7758\n",
      "Epoch 10/100\n",
      "313/313 [==============================] - 17s 55ms/step - loss: 0.4799 - accuracy: 0.7769 - val_loss: 0.4853 - val_accuracy: 0.7734\n",
      "Epoch 11/100\n",
      "313/313 [==============================] - 17s 54ms/step - loss: 0.4728 - accuracy: 0.7836 - val_loss: 0.4781 - val_accuracy: 0.7772\n",
      "Epoch 12/100\n",
      "313/313 [==============================] - 17s 54ms/step - loss: 0.4644 - accuracy: 0.7907 - val_loss: 0.4693 - val_accuracy: 0.7832\n",
      "Epoch 13/100\n",
      "313/313 [==============================] - 17s 54ms/step - loss: 0.4620 - accuracy: 0.7888 - val_loss: 0.4626 - val_accuracy: 0.7848\n",
      "Epoch 14/100\n",
      "313/313 [==============================] - 17s 54ms/step - loss: 0.4567 - accuracy: 0.7923 - val_loss: 0.4596 - val_accuracy: 0.7844\n",
      "Epoch 15/100\n",
      "313/313 [==============================] - 17s 54ms/step - loss: 0.4538 - accuracy: 0.7935 - val_loss: 0.4565 - val_accuracy: 0.7848\n",
      "Epoch 16/100\n",
      "313/313 [==============================] - 17s 54ms/step - loss: 0.4503 - accuracy: 0.7945 - val_loss: 0.4544 - val_accuracy: 0.7856\n",
      "Epoch 17/100\n",
      "313/313 [==============================] - 17s 55ms/step - loss: 0.4469 - accuracy: 0.7957 - val_loss: 0.4514 - val_accuracy: 0.7892\n",
      "Epoch 18/100\n",
      "313/313 [==============================] - 17s 54ms/step - loss: 0.4450 - accuracy: 0.7960 - val_loss: 0.4485 - val_accuracy: 0.7904\n",
      "Epoch 19/100\n",
      "313/313 [==============================] - 17s 54ms/step - loss: 0.4407 - accuracy: 0.7961 - val_loss: 0.4474 - val_accuracy: 0.7884\n",
      "Epoch 20/100\n",
      "313/313 [==============================] - 17s 55ms/step - loss: 0.4383 - accuracy: 0.8027 - val_loss: 0.4456 - val_accuracy: 0.7900\n",
      "Epoch 21/100\n",
      "313/313 [==============================] - 17s 55ms/step - loss: 0.4377 - accuracy: 0.8010 - val_loss: 0.4426 - val_accuracy: 0.7918\n",
      "Epoch 22/100\n",
      "313/313 [==============================] - 17s 56ms/step - loss: 0.4343 - accuracy: 0.8033 - val_loss: 0.4428 - val_accuracy: 0.7968\n",
      "Epoch 23/100\n",
      "313/313 [==============================] - 17s 55ms/step - loss: 0.4302 - accuracy: 0.8037 - val_loss: 0.4394 - val_accuracy: 0.7924\n",
      "Epoch 24/100\n",
      "313/313 [==============================] - 17s 55ms/step - loss: 0.4298 - accuracy: 0.8042 - val_loss: 0.4374 - val_accuracy: 0.7944\n",
      "Epoch 25/100\n",
      "313/313 [==============================] - 17s 55ms/step - loss: 0.4285 - accuracy: 0.8041 - val_loss: 0.4369 - val_accuracy: 0.7934\n",
      "Epoch 26/100\n",
      "313/313 [==============================] - 17s 56ms/step - loss: 0.4255 - accuracy: 0.8048 - val_loss: 0.4349 - val_accuracy: 0.7972\n",
      "Epoch 27/100\n",
      "313/313 [==============================] - 17s 55ms/step - loss: 0.4235 - accuracy: 0.8071 - val_loss: 0.4385 - val_accuracy: 0.7962\n",
      "Epoch 28/100\n",
      "313/313 [==============================] - 18s 57ms/step - loss: 0.4221 - accuracy: 0.8053 - val_loss: 0.4443 - val_accuracy: 0.7898\n",
      "Epoch 29/100\n",
      "313/313 [==============================] - 18s 56ms/step - loss: 0.4204 - accuracy: 0.8069 - val_loss: 0.4319 - val_accuracy: 0.7968\n",
      "Epoch 30/100\n",
      "313/313 [==============================] - 18s 56ms/step - loss: 0.4198 - accuracy: 0.8081 - val_loss: 0.4355 - val_accuracy: 0.7946\n",
      "Epoch 31/100\n",
      "313/313 [==============================] - 18s 56ms/step - loss: 0.4203 - accuracy: 0.8075 - val_loss: 0.4313 - val_accuracy: 0.8016\n",
      "Epoch 32/100\n",
      "313/313 [==============================] - 18s 56ms/step - loss: 0.4180 - accuracy: 0.8095 - val_loss: 0.4316 - val_accuracy: 0.7976\n",
      "Epoch 33/100\n",
      "313/313 [==============================] - 17s 56ms/step - loss: 0.4153 - accuracy: 0.8100 - val_loss: 0.4297 - val_accuracy: 0.7998\n",
      "Epoch 34/100\n",
      "313/313 [==============================] - 18s 56ms/step - loss: 0.4168 - accuracy: 0.8086 - val_loss: 0.4284 - val_accuracy: 0.8018\n",
      "Epoch 35/100\n",
      "313/313 [==============================] - 18s 57ms/step - loss: 0.4156 - accuracy: 0.8080 - val_loss: 0.4332 - val_accuracy: 0.7952\n",
      "Epoch 36/100\n",
      "313/313 [==============================] - 18s 56ms/step - loss: 0.4122 - accuracy: 0.8097 - val_loss: 0.4279 - val_accuracy: 0.8014\n",
      "Epoch 37/100\n",
      "313/313 [==============================] - 18s 56ms/step - loss: 0.4125 - accuracy: 0.8123 - val_loss: 0.4256 - val_accuracy: 0.8022\n",
      "Epoch 38/100\n",
      "313/313 [==============================] - 18s 56ms/step - loss: 0.4116 - accuracy: 0.8124 - val_loss: 0.4260 - val_accuracy: 0.8002\n",
      "Epoch 39/100\n",
      "313/313 [==============================] - 18s 56ms/step - loss: 0.4103 - accuracy: 0.8110 - val_loss: 0.4381 - val_accuracy: 0.7936\n",
      "Epoch 40/100\n",
      "313/313 [==============================] - 18s 56ms/step - loss: 0.4074 - accuracy: 0.8148 - val_loss: 0.4347 - val_accuracy: 0.7976\n"
     ]
    }
   ],
   "source": [
    "rmsprop = keras.optimizers.RMSprop(learning_rate=1e-4)\n",
    "\n",
    "model.compile(optimizer=rmsprop, loss='binary_crossentropy', metrics=['accuracy'])\n",
    "\n",
    "check_point = keras.callbacks.ModelCheckpoint('best_nle_model.h5',save_best_only=True)\n",
    "early_stopping = keras.callbacks.EarlyStopping(patience=3, restore_best_weights=True)\n",
    "\n",
    "history = model.fit(train_seq, train_target, \n",
    "                    epochs=100, \n",
    "                    batch_size=64,\n",
    "                    validation_data=(val_seq, val_target),\n",
    "                    callbacks=[check_point, early_stopping])\n"
   ]
  },
  {
   "cell_type": "code",
   "execution_count": 6,
   "id": "85a24e24",
   "metadata": {},
   "outputs": [
    {
     "data": {
      "image/png": "[encoded data removed]",
      "text/plain": [
       "<Figure size 640x480 with 1 Axes>"
      ]
     },
     "metadata": {},
     "output_type": "display_data"
    },
    {
     "name": "stdout",
     "output_type": "stream",
     "text": [
      "best_epoch : 37\n"
     ]
    }
   ],
   "source": [
    "plt.plot(np.linspace(1,len(history.history['loss']),len(history.history['loss'])), history.history['loss'])\n",
    "plt.plot(np.linspace(1,len(history.history['val_loss']),len(history.history['val_loss'])), history.history['val_loss'])\n",
    "plt.xlabel('epoch')\n",
    "plt.ylabel('loss')\n",
    "plt.legend(['train','val'])\n",
    "plt.show()\n",
    "\n",
    "print('best_epoch :', early_stopping.best_epoch + 1)"
   ]
  },
  {
   "cell_type": "code",
   "execution_count": 9,
   "id": "cc4d5108",
   "metadata": {},
   "outputs": [
    {
     "name": "stdout",
     "output_type": "stream",
     "text": [
      "157/157 [==============================] - 4s 26ms/step - loss: 0.4256 - accuracy: 0.8022\n"
     ]
    },
    {
     "data": {
      "text/plain": [
       "[0.4255771338939667, 0.8022000193595886]"
      ]
     },
     "execution_count": 9,
     "metadata": {},
     "output_type": "execute_result"
    }
   ],
   "source": [
    "model.evaluate(val_seq,val_target)"
   ]
  },
  {
   "cell_type": "code",
   "execution_count": null,
   "id": "a30f4b3c",
   "metadata": {},
   "outputs": [],
   "source": []
  }
 ],
 "metadata": {
  "kernelspec": {
   "display_name": "Python 3 (ipykernel)",
   "language": "python",
   "name": "python3"
  },
  "language_info": {
   "codemirror_mode": {
    "name": "ipython",
    "version": 3
   },
   "file_extension": ".py",
   "mimetype": "text/x-python",
   "name": "python",
   "nbconvert_exporter": "python",
   "pygments_lexer": "ipython3",
   "version": "3.10.9"
  }
 },
 "nbformat": 4,
 "nbformat_minor": 5
}
